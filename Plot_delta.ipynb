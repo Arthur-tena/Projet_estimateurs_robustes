{
 "cells": [
  {
   "cell_type": "code",
   "execution_count": 9,
   "metadata": {},
   "outputs": [],
   "source": [
    "using Plots\n",
    "using Distributions\n",
    "using Random"
   ]
  },
  {
   "cell_type": "code",
   "execution_count": 2,
   "metadata": {},
   "outputs": [
    {
     "data": {
      "text/plain": [
       "median_of_means_th (generic function with 1 method)"
      ]
     },
     "metadata": {},
     "output_type": "display_data"
    }
   ],
   "source": [
    "function median_of_means_th(X)\n",
    "    alpha=0.025\n",
    "    n = length(X)\n",
    "    k = trunc(Int, 8 * log(1 / alpha))\n",
    "    m = div(n, k)\n",
    "    indic = repeat(1:k, inner = m)\n",
    "    indic = indic[randperm(length(indic))]\n",
    "    moyennes = [mean(X[findall(indic .== block)]) for block in 1:k]\n",
    "\n",
    "    return median(moyennes)\n",
    "end"
   ]
  },
  {
   "cell_type": "code",
   "execution_count": 13,
   "metadata": {},
   "outputs": [
    {
     "data": {
      "text/plain": [
       "median_of_meanDelta (generic function with 2 methods)"
      ]
     },
     "metadata": {},
     "output_type": "display_data"
    }
   ],
   "source": [
    "function median_of_meanDelta(X,μ)\n",
    "    medians = Float64[]  \n",
    "    deltas = 0.001:0.001:0.1  \n",
    "    tolerance = 1e-10  \n",
    "    for δ in deltas\n",
    "        n = length(X)\n",
    "        if δ > tolerance\n",
    "            n = length(X)\n",
    "            k = trunc(Int, 8 * log(1 / δ))\n",
    "            m = div(n, k)\n",
    "            indic = repeat(1:k, inner = m)\n",
    "            indic = indic[randperm(length(indic))]\n",
    "            means = [mean(X[findall(indic .== block)]) for block in 1:k]\n",
    "            \n",
    "            push!(medians, median(means))\n",
    "        else\n",
    "            push!(medians, NaN)\n",
    "        end\n",
    "    end\n",
    "    plot(deltas, medians, xlabel=\"δ\", ylabel=\"Estimateur\", label=\"\", title=\"Évolution de l'estimateur en fonction de δ\")\n",
    "    hline!([μ], label=\"Espérance\", color=\"red\") \n",
    "     \n",
    "end"
   ]
  },
  {
   "cell_type": "code",
   "execution_count": 15,
   "metadata": {},
   "outputs": [
    {
     "data": {
      "text/plain": [
       "\"C:\\\\Users\\\\aicha\\\\OneDrive\\\\Bureau\\\\Plot\\\\median_of_meanDeltaPareto.png\""
      ]
     },
     "metadata": {},
     "output_type": "display_data"
    }
   ],
   "source": [
    "X=rand(Pareto(2.2,3),10000)\n",
    "median_of_meanDelta(X,5.5)\n",
    "savefig(\"C:/Users/aicha/OneDrive/Bureau/Plot/median_of_meanDeltaPareto.png\")"
   ]
  },
  {
   "cell_type": "code",
   "execution_count": 18,
   "metadata": {},
   "outputs": [
    {
     "data": {
      "text/plain": [
       "\"C:\\\\Users\\\\aicha\\\\OneDrive\\\\Bureau\\\\Plot\\\\median_of_meanDeltaWeibull.png\""
      ]
     },
     "metadata": {},
     "output_type": "display_data"
    }
   ],
   "source": [
    "Y=rand(Weibull(0.5),10000)\n",
    "median_of_meanDelta(Y,2)\n",
    "savefig(\"C:/Users/aicha/OneDrive/Bureau/Plot/median_of_meanDeltaWeibull.png\")\n"
   ]
  }
 ],
 "metadata": {
  "kernelspec": {
   "display_name": "Julia 1.10.2",
   "language": "julia",
   "name": "julia-1.10"
  },
  "language_info": {
   "file_extension": ".jl",
   "mimetype": "application/julia",
   "name": "julia",
   "version": "1.10.2"
  }
 },
 "nbformat": 4,
 "nbformat_minor": 2
}
