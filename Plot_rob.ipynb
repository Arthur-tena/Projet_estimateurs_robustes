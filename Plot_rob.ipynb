{
 "cells": [
  {
   "cell_type": "code",
   "execution_count": 1,
   "metadata": {},
   "outputs": [],
   "source": [
    "using Plots\n",
    "using Distributions\n",
    "using SpecialFunctions\n",
    "using Random\n",
    "using DataFrames\n",
    "using Combinatorics\n",
    "using RobustMeans"
   ]
  },
  {
   "cell_type": "code",
   "execution_count": 2,
   "metadata": {},
   "outputs": [
    {
     "data": {
      "text/plain": [
       "median_of_means (generic function with 1 method)"
      ]
     },
     "metadata": {},
     "output_type": "display_data"
    }
   ],
   "source": [
    "function median_of_means(X, k)\n",
    "    if k > length(X)\n",
    "        k = ceil(Int, length(X) / 2)\n",
    "    end\n",
    "    indic = repeat(1:k, inner = div(length(X), k))\n",
    "    indic = indic[randperm(length(indic))]  # Mélange les indices aléatoirement\n",
    "    moyennes = [mean(X[findall(indic .== block)]) for block in 1:k]\n",
    "    return median(moyennes)\n",
    "end"
   ]
  },
  {
   "cell_type": "code",
   "execution_count": 3,
   "metadata": {},
   "outputs": [
    {
     "data": {
      "text/plain": [
       "rob_median_of_means (generic function with 1 method)"
      ]
     },
     "metadata": {},
     "output_type": "display_data"
    }
   ],
   "source": [
    "function rob_median_of_means(X, k, l)\n",
    "    res = [median_of_means(X, k) for _ in 1:l]\n",
    "    return mean(res)\n",
    "end"
   ]
  },
  {
   "cell_type": "code",
   "execution_count": 4,
   "metadata": {},
   "outputs": [
    {
     "data": {
      "text/plain": [
       "10000-element Vector{Float64}:\n",
       " 3.4628111103083823\n",
       " 4.05478719921974\n",
       " 3.085831875686673\n",
       " 4.613488515003262\n",
       " 6.389391432943124\n",
       " 6.097123292074661\n",
       " 5.005470016804356\n",
       " 3.805212134693485\n",
       " 4.755783735477463\n",
       " 3.1975367575370024\n",
       " ⋮\n",
       " 4.402756723964555\n",
       " 4.029419579873825\n",
       " 3.1329461820569873\n",
       " 3.3618785623332714\n",
       " 4.5369626491525565\n",
       " 3.3033348426873013\n",
       " 7.112186191922044\n",
       " 5.473041260212076\n",
       " 3.1948478355399756"
      ]
     },
     "metadata": {},
     "output_type": "display_data"
    }
   ],
   "source": [
    "X=rand(Pareto(2.2,3),10000)"
   ]
  },
  {
   "cell_type": "code",
   "execution_count": 5,
   "metadata": {},
   "outputs": [
    {
     "data": {
      "text/plain": [
       "\"C:\\\\Users\\\\aicha\\\\OneDrive\\\\Bureau\\\\Plot\\\\KRobExpo1000.pdf\""
      ]
     },
     "metadata": {},
     "output_type": "display_data"
    }
   ],
   "source": [
    "# Nombre de blocs (k) à tester\n",
    "X=rand(Exponential(0.5),10000)\n",
    "k_values = 1:1000\n",
    "l=50\n",
    "\n",
    "# Calculer l'estimateur pour chaque valeur de k\n",
    "estimateurs = [rob_median_of_means(X, k, l) for k in k_values]\n",
    "\n",
    "# Tracer l'évolution de l'estimateur en fonction de k\n",
    "plot(k_values, estimateurs, marker=:circle, xlabel=\"Nombre de blocs (k)\", ylabel=\"Estimateur median_of_means\",\n",
    "    title=\"Évolution de l'estimateur MOM en fonction de k\", legend=false)\n",
    "hline!([0.5], label=\"Espérance\", color=:red, linestyle=:dash)\n",
    "\n",
    "savefig(\"C:/Users/aicha/OneDrive/Bureau/Plot/KRobExpo1000.pdf\")"
   ]
  },
  {
   "cell_type": "code",
   "execution_count": 7,
   "metadata": {},
   "outputs": [
    {
     "data": {
      "text/plain": [
       "\"C:\\\\Users\\\\aicha\\\\OneDrive\\\\Bureau\\\\Plot\\\\KRobPareto1000.png\""
      ]
     },
     "metadata": {},
     "output_type": "display_data"
    }
   ],
   "source": [
    "# Nombre de blocs (k) à tester\n",
    "k_values = 1:1000\n",
    "l=50\n",
    "\n",
    "# Calculer l'estimateur pour chaque valeur de k\n",
    "estimateurs = [rob_median_of_means(X, k, l) for k in k_values]\n",
    "\n",
    "# Tracer l'évolution de l'estimateur en fonction de k\n",
    "plot(k_values, estimateurs, marker=:circle, xlabel=\"Nombre de blocs (k)\", ylabel=\"Estimateur median_of_means\",\n",
    "    title=\"Évolution de l'estimateur MOM en fonction de k\", legend=false)\n",
    "hline!([5.5], label=\"Espérance\", color=:red, linestyle=:dash)\n",
    "\n",
    "savefig(\"C:/Users/aicha/OneDrive/Bureau/Plot/KRobPareto1000.png\")"
   ]
  },
  {
   "cell_type": "code",
   "execution_count": 8,
   "metadata": {},
   "outputs": [
    {
     "data": {
      "text/plain": [
       "10000-element Vector{Float64}:\n",
       " 0.8919166980194622\n",
       " 0.011325629352421122\n",
       " 0.06923690887673872\n",
       " 1.01551258048626\n",
       " 0.03863128716013384\n",
       " 0.37340551957173407\n",
       " 0.00196030049430137\n",
       " 2.466840279183873\n",
       " 7.038355968368999\n",
       " 0.2131050488979564\n",
       " ⋮\n",
       " 0.21770729638191758\n",
       " 0.005413555613298043\n",
       " 1.3200016607186567e-7\n",
       " 0.10129238582291497\n",
       " 0.12448328663509864\n",
       " 0.013862673658423981\n",
       " 0.22503983107884507\n",
       " 5.363807016941324\n",
       " 0.04246380114504074"
      ]
     },
     "metadata": {},
     "output_type": "display_data"
    }
   ],
   "source": [
    "data=rand(Weibull(0.5),10000)"
   ]
  },
  {
   "cell_type": "code",
   "execution_count": 9,
   "metadata": {},
   "outputs": [
    {
     "data": {
      "text/plain": [
       "\"C:\\\\Users\\\\aicha\\\\OneDrive\\\\Bureau\\\\Plot\\\\KRobW75.png\""
      ]
     },
     "metadata": {},
     "output_type": "display_data"
    }
   ],
   "source": [
    "# Nombre de blocs (k) à tester\n",
    "k_values = 1:75\n",
    "l=50\n",
    "\n",
    "# Calculer l'estimateur pour chaque valeur de k\n",
    "estimateurs = [rob_median_of_means(data, k, l) for k in k_values]\n",
    "\n",
    "# Tracer l'évolution de l'estimateur en fonction de k\n",
    "plot(k_values, estimateurs, marker=:circle, xlabel=\"Nombre de blocs (k)\", ylabel=\"Estimateur median_of_means\",\n",
    "    title=\"Évolution de l'estimateur MOM en fonction de k\", legend=false)\n",
    "hline!([2], label=\"Espérance\", color=:red, linestyle=:dash)\n",
    "\n",
    "savefig(\"C:/Users/aicha/OneDrive/Bureau/Plot/KRobW75.png\")"
   ]
  },
  {
   "cell_type": "code",
   "execution_count": 10,
   "metadata": {},
   "outputs": [
    {
     "data": {
      "text/plain": [
       "\"C:\\\\Users\\\\aicha\\\\OneDrive\\\\Bureau\\\\Plot\\\\KRobW1000.png\""
      ]
     },
     "metadata": {},
     "output_type": "display_data"
    }
   ],
   "source": [
    "# Nombre de blocs (k) à tester\n",
    "k_values = 1:1000\n",
    "l=50\n",
    "\n",
    "# Calculer l'estimateur pour chaque valeur de k\n",
    "estimateurs = [rob_median_of_means(data, k, l) for k in k_values]\n",
    "\n",
    "# Tracer l'évolution de l'estimateur en fonction de k\n",
    "plot(k_values, estimateurs, marker=:circle, xlabel=\"Nombre de blocs (k)\", ylabel=\"Estimateur median_of_means\",\n",
    "    title=\"Évolution de l'estimateur MOM en fonction de k\", legend=false)\n",
    "hline!([2], label=\"Espérance\", color=:red, linestyle=:dash)\n",
    "\n",
    "savefig(\"C:/Users/aicha/OneDrive/Bureau/Plot/KRobW1000.png\")"
   ]
  }
 ],
 "metadata": {
  "kernelspec": {
   "display_name": "Julia 1.10.2",
   "language": "julia",
   "name": "julia-1.10"
  },
  "language_info": {
   "file_extension": ".jl",
   "mimetype": "application/julia",
   "name": "julia",
   "version": "1.10.2"
  }
 },
 "nbformat": 4,
 "nbformat_minor": 2
}
