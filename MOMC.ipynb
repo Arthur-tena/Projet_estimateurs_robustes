{
 "cells": [
  {
   "cell_type": "code",
   "execution_count": 1,
   "metadata": {},
   "outputs": [],
   "source": [
    "using Plots\n",
    "using Distributions\n",
    "using SpecialFunctions\n",
    "using Random\n",
    "using DataFrames\n",
    "using Combinatorics\n",
    "using RobustMeans"
   ]
  },
  {
   "cell_type": "code",
   "execution_count": 3,
   "metadata": {},
   "outputs": [
    {
     "data": {
      "text/plain": [
       "IC_MOM2 (generic function with 1 method)"
      ]
     },
     "metadata": {},
     "output_type": "display_data"
    }
   ],
   "source": [
    "# Moyenne théorique = 0.1\n",
    "data1 = rand(Exponential(0.1), 1000000)\n",
    "\n",
    "function median_of_means_opt_C(X)\n",
    "    \n",
    "    alpha=0.025\n",
    "    medians = []\n",
    "    for c in 1:40\n",
    "        n = length(X)\n",
    "        k = trunc(Int, c * log(1 / alpha))\n",
    "        m = div(n, k)\n",
    "        indic = repeat(1:k, inner = m)\n",
    "        indic = indic[randperm(length(indic))]\n",
    "        means = [mean(X[findall(indic .== block)]) for block in 1:k]\n",
    "        push!(medians, median(means))\n",
    "    end\n",
    "    return medians\n",
    "end\n",
    "\n",
    "\n",
    "#Fonction qui calcul la borne inf et sup ainsi que l'écart entre la moyenne et l'estimateur\n",
    "function IC_MOM2(X, μ, σ)\n",
    "    alpha = 0.025\n",
    "    μ_MOM = median_of_means_opt_C(X)\n",
    "    inf_vals = Float64[]\n",
    "    sup_vals = Float64[]\n",
    "    c_vals = Float64[]\n",
    "    ecart = abs.(μ_MOM .- μ)\n",
    "\n",
    "    for c in sqrt(2)/4:0.01:10\n",
    "        sup = σ * sqrt(4 * c * log(1 / alpha) / length(X))\n",
    "        inf = -σ * sqrt(4 * c * log(1 / alpha) / length(X))\n",
    "        push!(inf_vals, inf)\n",
    "        push!(sup_vals, sup)\n",
    "        push!(c_vals, c)\n",
    "    end\n",
    "\n",
    "    return inf_vals, sup_vals, c_vals, ecart\n",
    "end"
   ]
  },
  {
   "cell_type": "code",
   "execution_count": 4,
   "metadata": {},
   "outputs": [
    {
     "name": "stdout",
     "output_type": "stream",
     "text": []
    }
   ],
   "source": [
    "#Application de la fonction IC_MOM2 sur une loi Exponentiel\n",
    "\n",
    "# Exécutez d'abord la fonction IC_MOM2 pour obtenir les valeurs de retour\n",
    "inf_vals, sup_vals, c_vals, ecart = IC_MOM2(data1, 0.1, 0.01)\n",
    "\n",
    "# Plot\n",
    "plot(c_vals, ecart, xlabel=\"Valeur de c\", ylabel=\"Ecart\", label=\"Ecart en fonction de c\", legend=:bottomright)\n",
    "plot!(c_vals, inf_vals, label=\"Borne inférieure\")\n",
    "plot!(c_vals, sup_vals, label=\"Borne supérieure\")"
   ]
  }
 ],
 "metadata": {
  "kernelspec": {
   "display_name": "Julia 1.10.2",
   "language": "julia",
   "name": "julia-1.10"
  },
  "language_info": {
   "file_extension": ".jl",
   "mimetype": "application/julia",
   "name": "julia",
   "version": "1.10.2"
  }
 },
 "nbformat": 4,
 "nbformat_minor": 2
}
